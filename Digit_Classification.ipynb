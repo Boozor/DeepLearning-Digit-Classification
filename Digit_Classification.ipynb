{
  "nbformat": 4,
  "nbformat_minor": 0,
  "metadata": {
    "colab": {
      "name": "Digit_Classification.ipynb",
      "provenance": [],
      "authorship_tag": "ABX9TyOATEtPe30jIM4XJWSztWAp",
      "include_colab_link": true
    },
    "kernelspec": {
      "name": "python3",
      "display_name": "Python 3"
    },
    "language_info": {
      "name": "python"
    }
  },
  "cells": [
    {
      "cell_type": "markdown",
      "metadata": {
        "id": "view-in-github",
        "colab_type": "text"
      },
      "source": [
        "<a href=\"https://colab.research.google.com/github/LeoVal1/Digit_Classification/blob/main/Digit_Classification.ipynb\" target=\"_parent\"><img src=\"https://colab.research.google.com/assets/colab-badge.svg\" alt=\"Open In Colab\"/></a>"
      ]
    },
    {
      "cell_type": "code",
      "source": [
        "!pip install keras"
      ],
      "metadata": {
        "colab": {
          "base_uri": "https://localhost:8080/"
        },
        "id": "r_jaz83HHByn",
        "outputId": "d46cdc4c-e536-416d-dcdf-b847c1a6b859"
      },
      "execution_count": null,
      "outputs": [
        {
          "output_type": "stream",
          "name": "stdout",
          "text": [
            "Requirement already satisfied: keras in /usr/local/lib/python3.7/dist-packages (2.8.0)\n"
          ]
        }
      ]
    },
    {
      "cell_type": "code",
      "execution_count": 1,
      "metadata": {
        "id": "lDnFmaX0Dnrq"
      },
      "outputs": [],
      "source": [
        "import numpy as np\n",
        "import tensorflow as tf\n",
        "from tensorflow import keras\n",
        "import pandas as pd\n",
        "import matplotlib\n",
        "import matplotlib.pyplot as plt\n",
        "from keras import layers\n",
        "import tensorflow_datasets as tfds\n",
        "from keras.models import Sequential\n",
        "from keras.layers.convolutional import Conv2D\n",
        "from keras.layers.convolutional import MaxPooling2D\n",
        "from keras.layers import Flatten\n",
        "from keras.layers import Dense\n",
        "from tensorflow.python.keras.utils.np_utils import to_categorical\n",
        "from tensorflow.keras.optimizers import Adam\n",
        "\n"
      ]
    },
    {
      "cell_type": "markdown",
      "source": [
        "#LOAD MNIST DATASET"
      ],
      "metadata": {
        "id": "yBc8i_LCE79k"
      }
    },
    {
      "cell_type": "code",
      "source": [
        "mnist = tf.keras.datasets.mnist\n",
        "mnist_df =  mnist.load_data()\n",
        "(x_train, y_train),(x_test, y_test) = mnist_df  # Load data\n",
        "plt.imshow(x_train[0], cmap=\"Accent\")\n",
        "plt.show()\n",
        "\n",
        "\n",
        "\n",
        "\n"
      ],
      "metadata": {
        "colab": {
          "base_uri": "https://localhost:8080/",
          "height": 317
        },
        "id": "Mxn56Rs2FIl_",
        "outputId": "cdc85325-0807-4277-e5b4-e28a47e3ddad"
      },
      "execution_count": 2,
      "outputs": [
        {
          "output_type": "stream",
          "name": "stdout",
          "text": [
            "Downloading data from https://storage.googleapis.com/tensorflow/tf-keras-datasets/mnist.npz\n",
            "11493376/11490434 [==============================] - 0s 0us/step\n",
            "11501568/11490434 [==============================] - 0s 0us/step\n"
          ]
        },
        {
          "output_type": "display_data",
          "data": {
            "text/plain": [
              "<Figure size 432x288 with 1 Axes>"
            ],
            "image/png": "[encoded data removed]"
          },
          "metadata": {
            "needs_background": "light"
          }
        }
      ]
    },
    {
      "cell_type": "markdown",
      "source": [
        "##PREPROCESS THE DATA INTO NUMPY ARRAYS"
      ],
      "metadata": {
        "id": "awQr1r3QN-6w"
      }
    },
    {
      "cell_type": "code",
      "source": [
        "x_train_expand = x_train.reshape((x_train.shape[0], 28, 28, 1))\n",
        "x_test_expand = x_test.reshape((x_test.shape[0], 28, 28, 1))\n",
        "\n",
        "x_train_expand = x_train_expand.astype('float16')\n",
        "x_test_expand = x_test_expand.astype('float16')\n",
        "\n",
        "print(x_train_expand.shape)\n",
        "print(x_test_expand.shape)\n"
      ],
      "metadata": {
        "colab": {
          "base_uri": "https://localhost:8080/"
        },
        "id": "WAXRVn4HOPXy",
        "outputId": "b431bba2-0fe6-4242-b008-d9914fa8231d"
      },
      "execution_count": 3,
      "outputs": [
        {
          "output_type": "stream",
          "name": "stdout",
          "text": [
            "(60000, 28, 28, 1)\n",
            "(10000, 28, 28, 1)\n"
          ]
        }
      ]
    },
    {
      "cell_type": "markdown",
      "source": [
        ""
      ],
      "metadata": {
        "id": "nLxUo48QPCiP"
      }
    },
    {
      "cell_type": "code",
      "source": [
        "# normalize inputs from 0-255 to 0-1\n",
        "x_train_norm = x_train_expand / 255\n",
        "x_test_norm = x_test_expand / 255\n",
        "x_train_expand = x_train_expand.reshape(-1, 28, 28, 1)\n",
        "x_test_expand = x_test_expand.reshape(-1, 28, 28, 1)\n",
        "# one hot encode outputs\n",
        "y_train = to_categorical(y_train)\n",
        "y_test = to_categorical(y_test)\n",
        "print(x_train_expand.shape, x_test_expand.shape)\n",
        "print(y_train.shape)\n",
        "num_classes = y_test.shape[1]"
      ],
      "metadata": {
        "colab": {
          "base_uri": "https://localhost:8080/"
        },
        "id": "eEe1MXTSPDie",
        "outputId": "fe540587-5d99-4306-80d2-0dae6fced465"
      },
      "execution_count": 4,
      "outputs": [
        {
          "output_type": "stream",
          "name": "stdout",
          "text": [
            "(60000, 28, 28, 1) (10000, 28, 28, 1)\n",
            "(60000, 10)\n"
          ]
        }
      ]
    },
    {
      "cell_type": "code",
      "source": [
        "print(num_classes)"
      ],
      "metadata": {
        "colab": {
          "base_uri": "https://localhost:8080/"
        },
        "id": "oEazbgnQNR0R",
        "outputId": "2840ce64-edb3-4083-f485-3ceb889a9c10"
      },
      "execution_count": 5,
      "outputs": [
        {
          "output_type": "stream",
          "name": "stdout",
          "text": [
            "10\n"
          ]
        }
      ]
    },
    {
      "cell_type": "markdown",
      "source": [
        "##BUILD A MODEL"
      ],
      "metadata": {
        "id": "4VgqyOUQJ9Nt"
      }
    },
    {
      "cell_type": "code",
      "source": [
        "model = Sequential(\n",
        "    [\n",
        "layers.Conv2D(filters=8,kernel_size=(5,5),strides=1,padding='same',activation='relu',input_shape=(28,28,1)),\n",
        "layers.MaxPooling2D(2),\n",
        "layers.Conv2D(filters=16,kernel_size=(3,3),strides=1,padding='same',activation='relu',input_shape=(14,14,8)),\n",
        "layers.Flatten(),\n",
        "layers.Dense(32, activation='relu'),\n",
        "layers.Dense(num_classes, activation='softmax'),\n",
        "  ])"
      ],
      "metadata": {
        "id": "WaLjkpqPKBpV"
      },
      "execution_count": 6,
      "outputs": []
    },
    {
      "cell_type": "code",
      "source": [
        "model.summary(),\n",
        "model.reset_states(),\n",
        "model.reset_metrics(),"
      ],
      "metadata": {
        "id": "myu9_4ATNq_B"
      },
      "execution_count": null,
      "outputs": []
    },
    {
      "cell_type": "code",
      "source": [
        "model.compile(optimizer = Adam(), loss = 'categorical_crossentropy', metrics=['accuracy'])"
      ],
      "metadata": {
        "id": "MvWvcaQgGjw5"
      },
      "execution_count": 8,
      "outputs": []
    },
    {
      "cell_type": "markdown",
      "source": [
        "##Without Normalization"
      ],
      "metadata": {
        "id": "IEf8ecCNVSSt"
      }
    },
    {
      "cell_type": "code",
      "source": [
        "history = model.fit(x = x_train_expand, y=y_train, epochs= 10 ,validation_split=0.33)"
      ],
      "metadata": {
        "colab": {
          "base_uri": "https://localhost:8080/"
        },
        "id": "0od9NIm-Ic8I",
        "outputId": "2d8e4664-bd14-435a-b0d0-6a5896f9a422"
      },
      "execution_count": 9,
      "outputs": [
        {
          "output_type": "stream",
          "name": "stdout",
          "text": [
            "Epoch 1/10\n",
            "1257/1257 [==============================] - 37s 29ms/step - loss: 0.5355 - accuracy: 0.8717 - val_loss: 0.1545 - val_accuracy: 0.9571\n",
            "Epoch 2/10\n",
            "1257/1257 [==============================] - 34s 27ms/step - loss: 0.1043 - accuracy: 0.9700 - val_loss: 0.1093 - val_accuracy: 0.9698\n",
            "Epoch 3/10\n",
            "1257/1257 [==============================] - 34s 27ms/step - loss: 0.0678 - accuracy: 0.9801 - val_loss: 0.1261 - val_accuracy: 0.9678\n",
            "Epoch 4/10\n",
            "1257/1257 [==============================] - 36s 28ms/step - loss: 0.0513 - accuracy: 0.9841 - val_loss: 0.1119 - val_accuracy: 0.9740\n",
            "Epoch 5/10\n",
            "1257/1257 [==============================] - 35s 28ms/step - loss: 0.0474 - accuracy: 0.9859 - val_loss: 0.1005 - val_accuracy: 0.9749\n",
            "Epoch 6/10\n",
            "1257/1257 [==============================] - 35s 28ms/step - loss: 0.0384 - accuracy: 0.9881 - val_loss: 0.1251 - val_accuracy: 0.9733\n",
            "Epoch 7/10\n",
            "1257/1257 [==============================] - 37s 29ms/step - loss: 0.0347 - accuracy: 0.9891 - val_loss: 0.1025 - val_accuracy: 0.9775\n",
            "Epoch 8/10\n",
            "1257/1257 [==============================] - 36s 28ms/step - loss: 0.0336 - accuracy: 0.9897 - val_loss: 0.1081 - val_accuracy: 0.9799\n",
            "Epoch 9/10\n",
            "1257/1257 [==============================] - 37s 30ms/step - loss: 0.0274 - accuracy: 0.9914 - val_loss: 0.1159 - val_accuracy: 0.9746\n",
            "Epoch 10/10\n",
            "1257/1257 [==============================] - 37s 30ms/step - loss: 0.0243 - accuracy: 0.9925 - val_loss: 0.1250 - val_accuracy: 0.9770\n"
          ]
        }
      ]
    },
    {
      "cell_type": "code",
      "source": [
        "acc = history.history['accuracy']\n",
        "val_acc = history.history['val_accuracy']\n",
        "loss = history.history['loss']\n",
        "val_loss = history.history['val_loss']\n",
        "print('Traning Accuracy')\n",
        "print(acc)\n",
        "print('Validation Accuracy')\n",
        "print(val_acc)\n",
        "print('Training loss')\n",
        "print(loss)\n",
        "print('Validation loss')\n",
        "print(val_loss)"
      ],
      "metadata": {
        "colab": {
          "base_uri": "https://localhost:8080/"
        },
        "id": "8Dn-dBo-Vxkh",
        "outputId": "57c95848-7ffb-440d-88ef-f8ce9bc3e5a3"
      },
      "execution_count": 10,
      "outputs": [
        {
          "output_type": "stream",
          "name": "stdout",
          "text": [
            "Traning Accuracy\n",
            "[0.8716883659362793, 0.9700241088867188, 0.9801487326622009, 0.9840543270111084, 0.9858951568603516, 0.988059401512146, 0.9890544414520264, 0.9896763563156128, 0.9914177060127258, 0.9925371408462524]\n",
            "Validation Accuracy\n",
            "[0.9571233987808228, 0.9697995185852051, 0.9677793979644775, 0.9739912152290344, 0.9749002456665039, 0.9732841849327087, 0.9774758815765381, 0.9799000024795532, 0.9745972156524658, 0.977021336555481]\n",
            "Training loss\n",
            "[0.5355291962623596, 0.10426148772239685, 0.06779740750789642, 0.05131210386753082, 0.04740780591964722, 0.03837381303310394, 0.03470022603869438, 0.033562347292900085, 0.027398111298680305, 0.024270622059702873]\n",
            "Validation loss\n",
            "[0.15452855825424194, 0.10932500660419464, 0.12612655758857727, 0.11187465488910675, 0.1004565954208374, 0.12512364983558655, 0.10249560326337814, 0.10807793587446213, 0.11591940373182297, 0.12502527236938477]\n"
          ]
        }
      ]
    },
    {
      "cell_type": "code",
      "source": [
        "test_loss, test_acc = model.evaluate(x=x_test_expand, y=y_test)\n",
        "print('\\nTest accuracy:', test_acc)\n",
        "print('\\nTest loss', test_loss)"
      ],
      "metadata": {
        "colab": {
          "base_uri": "https://localhost:8080/"
        },
        "id": "VCRPTU-QV6pR",
        "outputId": "92db8489-63ea-4fa3-cca7-dc956f0a46a2"
      },
      "execution_count": 11,
      "outputs": [
        {
          "output_type": "stream",
          "name": "stdout",
          "text": [
            "313/313 [==============================] - 4s 11ms/step - loss: 0.1160 - accuracy: 0.9783\n",
            "\n",
            "Test accuracy: 0.9782999753952026\n",
            "\n",
            "Test loss 0.11604742705821991\n"
          ]
        }
      ]
    },
    {
      "cell_type": "code",
      "source": [
        "loss = history.history['loss']\n",
        "print(acc)\n",
        "val_loss = history.history['val_loss']\n",
        "print(val_loss)"
      ],
      "metadata": {
        "colab": {
          "base_uri": "https://localhost:8080/"
        },
        "id": "NHJdMMLcWEPP",
        "outputId": "d9fc8a13-dcff-4262-ddfa-473e04e24fb7"
      },
      "execution_count": 12,
      "outputs": [
        {
          "output_type": "stream",
          "name": "stdout",
          "text": [
            "[0.8716883659362793, 0.9700241088867188, 0.9801487326622009, 0.9840543270111084, 0.9858951568603516, 0.988059401512146, 0.9890544414520264, 0.9896763563156128, 0.9914177060127258, 0.9925371408462524]\n",
            "[0.15452855825424194, 0.10932500660419464, 0.12612655758857727, 0.11187465488910675, 0.1004565954208374, 0.12512364983558655, 0.10249560326337814, 0.10807793587446213, 0.11591940373182297, 0.12502527236938477]\n"
          ]
        }
      ]
    },
    {
      "cell_type": "code",
      "source": [
        "predictions = model.predict([x_test_expand]) # Make prediction\n",
        "plt.imshow(x_test[565], cmap=\"Accent\")\n",
        "plt.show()\n",
        "print(np.argmax(predictions[565])) # Print out the number"
      ],
      "metadata": {
        "colab": {
          "base_uri": "https://localhost:8080/",
          "height": 283
        },
        "id": "gO2iFQFDWMjo",
        "outputId": "fbb76d9f-a15d-4df6-b6d3-5a529a512e0c"
      },
      "execution_count": 14,
      "outputs": [
        {
          "output_type": "display_data",
          "data": {
            "text/plain": [
              "<Figure size 432x288 with 1 Axes>"
            ],
            "image/png": "[encoded data removed]"
          },
          "metadata": {
            "needs_background": "light"
          }
        },
        {
          "output_type": "stream",
          "name": "stdout",
          "text": [
            "4\n"
          ]
        }
      ]
    },
    {
      "cell_type": "code",
      "source": [
        "epochs = range(10)\n",
        "plt.figure()\n",
        "plt.plot(epochs, loss, 'r', label='Training loss')\n",
        "plt.plot(epochs, val_loss, 'bo', label='Validation loss')\n",
        "plt.title('Training and Validation Loss')\n",
        "plt.xlabel('Epoch')\n",
        "plt.ylabel('Loss Value')\n",
        "plt.ylim([0, 1])\n",
        "plt.legend()\n",
        "plt.show()"
      ],
      "metadata": {
        "colab": {
          "base_uri": "https://localhost:8080/",
          "height": 295
        },
        "id": "7XBrW-C1WSqR",
        "outputId": "a95dd699-13a8-4825-e3bc-ed026c2867c6"
      },
      "execution_count": 15,
      "outputs": [
        {
          "output_type": "display_data",
          "data": {
            "text/plain": [
              "<Figure size 432x288 with 1 Axes>"
            ],
            "image/png": "[encoded data removed]"
          },
          "metadata": {
            "needs_background": "light"
          }
        }
      ]
    },
    {
      "cell_type": "code",
      "source": [
        "epochs = range(10)\n",
        "plt.figure()\n",
        "plt.plot(epochs, acc, 'r', label='Training accuracy')\n",
        "plt.plot(epochs, val_acc, 'bo', label='Validation accuracy')\n",
        "plt.title('Training and Validation accuracy')\n",
        "plt.xlabel('Epoch')\n",
        "plt.ylabel('Accuracy Value')\n",
        "plt.ylim([0, 5])\n",
        "plt.legend()\n",
        "plt.show()"
      ],
      "metadata": {
        "colab": {
          "base_uri": "https://localhost:8080/",
          "height": 295
        },
        "id": "1b68r_d-WbLx",
        "outputId": "030c434d-5509-4df7-bdd1-4dd41b3f4e6f"
      },
      "execution_count": 16,
      "outputs": [
        {
          "output_type": "display_data",
          "data": {
            "text/plain": [
              "<Figure size 432x288 with 1 Axes>"
            ],
            "image/png": "[encoded data removed]"
          },
          "metadata": {
            "needs_background": "light"
          }
        }
      ]
    },
    {
      "cell_type": "markdown",
      "source": [
        "##With Normalization"
      ],
      "metadata": {
        "id": "un1ZUgF8Wg5o"
      }
    },
    {
      "cell_type": "code",
      "source": [
        "history1 = model.fit(x = x_train_norm, y=y_train, epochs= 10 ,validation_split=0.33)"
      ],
      "metadata": {
        "colab": {
          "base_uri": "https://localhost:8080/"
        },
        "id": "aS1EBqvCc1Oz",
        "outputId": "3071abd4-9f31-4bc4-cd62-08b79628f140"
      },
      "execution_count": 18,
      "outputs": [
        {
          "output_type": "stream",
          "name": "stdout",
          "text": [
            "Epoch 1/10\n",
            "1257/1257 [==============================] - 39s 31ms/step - loss: 0.2337 - accuracy: 0.9303 - val_loss: 0.0935 - val_accuracy: 0.9706\n",
            "Epoch 2/10\n",
            "1257/1257 [==============================] - 34s 27ms/step - loss: 0.0629 - accuracy: 0.9808 - val_loss: 0.0685 - val_accuracy: 0.9792\n",
            "Epoch 3/10\n",
            "1257/1257 [==============================] - 35s 28ms/step - loss: 0.0444 - accuracy: 0.9866 - val_loss: 0.0612 - val_accuracy: 0.9812\n",
            "Epoch 4/10\n",
            "1257/1257 [==============================] - 36s 28ms/step - loss: 0.0333 - accuracy: 0.9893 - val_loss: 0.0551 - val_accuracy: 0.9841\n",
            "Epoch 5/10\n",
            "1257/1257 [==============================] - 35s 28ms/step - loss: 0.0264 - accuracy: 0.9920 - val_loss: 0.0561 - val_accuracy: 0.9837\n",
            "Epoch 6/10\n",
            "1257/1257 [==============================] - 35s 28ms/step - loss: 0.0205 - accuracy: 0.9935 - val_loss: 0.0595 - val_accuracy: 0.9835\n",
            "Epoch 7/10\n",
            "1257/1257 [==============================] - 34s 27ms/step - loss: 0.0163 - accuracy: 0.9944 - val_loss: 0.0548 - val_accuracy: 0.9848\n",
            "Epoch 8/10\n",
            "1257/1257 [==============================] - 34s 27ms/step - loss: 0.0136 - accuracy: 0.9958 - val_loss: 0.0691 - val_accuracy: 0.9814\n",
            "Epoch 9/10\n",
            "1257/1257 [==============================] - 34s 27ms/step - loss: 0.0115 - accuracy: 0.9961 - val_loss: 0.0571 - val_accuracy: 0.9859\n",
            "Epoch 10/10\n",
            "1257/1257 [==============================] - 34s 27ms/step - loss: 0.0087 - accuracy: 0.9971 - val_loss: 0.0665 - val_accuracy: 0.9841\n"
          ]
        }
      ]
    },
    {
      "cell_type": "code",
      "source": [
        "acc = history1.history['accuracy']\n",
        "val_acc = history1.history['val_accuracy']\n",
        "loss = history1.history['loss']\n",
        "val_loss = history1.history['val_loss']\n",
        "print(acc)\n",
        "print(val_acc)\n",
        "print(loss)\n",
        "print(val_loss)"
      ],
      "metadata": {
        "colab": {
          "base_uri": "https://localhost:8080/"
        },
        "id": "5U65WZEMWlFi",
        "outputId": "edf63927-c211-49ee-a7fc-f523632803e2"
      },
      "execution_count": 19,
      "outputs": [
        {
          "output_type": "stream",
          "name": "stdout",
          "text": [
            "[0.9302719235420227, 0.9807706475257874, 0.9865668416023254, 0.9893032312393188, 0.9919898509979248, 0.9934824109077454, 0.9944028258323669, 0.995771050453186, 0.99614417552948, 0.9970895051956177]\n",
            "[0.9705570340156555, 0.9792434573173523, 0.9812130928039551, 0.9840916991233826, 0.983687698841095, 0.9834856986999512, 0.9848492741584778, 0.9813645482063293, 0.9859098196029663, 0.9841422438621521]\n",
            "[0.23373699188232422, 0.06293328106403351, 0.04435345530509949, 0.033279191702604294, 0.026372520253062248, 0.02052835375070572, 0.016335906460881233, 0.013643155805766582, 0.011482288129627705, 0.00869523175060749]\n",
            "[0.09348676353693008, 0.06848127394914627, 0.061202336102724075, 0.05505872145295143, 0.05612574890255928, 0.059463981539011, 0.05482753366231918, 0.06913831830024719, 0.05714647099375725, 0.06654687970876694]\n"
          ]
        }
      ]
    },
    {
      "cell_type": "code",
      "source": [
        "test_loss, test_acc = model.evaluate(x=x_test_expand, y=y_test)\n",
        "print('\\nTest accuracy:', test_acc)\n",
        "print('\\nTest loss', test_loss)"
      ],
      "metadata": {
        "colab": {
          "base_uri": "https://localhost:8080/"
        },
        "id": "wRc7pX6nYW_R",
        "outputId": "4482a18b-35dc-4dce-9f4f-9f27f1156104"
      },
      "execution_count": 20,
      "outputs": [
        {
          "output_type": "stream",
          "name": "stdout",
          "text": [
            "313/313 [==============================] - 4s 11ms/step - loss: 9.3185 - accuracy: 0.9870\n",
            "\n",
            "Test accuracy: 0.9869999885559082\n",
            "\n",
            "Test loss 9.3184814453125\n"
          ]
        }
      ]
    },
    {
      "cell_type": "code",
      "source": [
        "loss = history.history['loss']\n",
        "print(acc)\n",
        "val_loss = history.history['val_loss']\n",
        "print(val_loss)"
      ],
      "metadata": {
        "colab": {
          "base_uri": "https://localhost:8080/"
        },
        "id": "Pw_x68MzYqjL",
        "outputId": "85af0f42-40b4-4a79-89a4-ff576b2c55ec"
      },
      "execution_count": 21,
      "outputs": [
        {
          "output_type": "stream",
          "name": "stdout",
          "text": [
            "[0.9302719235420227, 0.9807706475257874, 0.9865668416023254, 0.9893032312393188, 0.9919898509979248, 0.9934824109077454, 0.9944028258323669, 0.995771050453186, 0.99614417552948, 0.9970895051956177]\n",
            "[0.15452855825424194, 0.10932500660419464, 0.12612655758857727, 0.11187465488910675, 0.1004565954208374, 0.12512364983558655, 0.10249560326337814, 0.10807793587446213, 0.11591940373182297, 0.12502527236938477]\n"
          ]
        }
      ]
    },
    {
      "cell_type": "code",
      "source": [
        "predictions = model.predict([x_test_expand]) # Make prediction\n",
        "plt.imshow(x_test[565], cmap=\"Accent\")\n",
        "plt.show()\n",
        "print(np.argmax(predictions[565])) # Print out the number"
      ],
      "metadata": {
        "colab": {
          "base_uri": "https://localhost:8080/",
          "height": 283
        },
        "id": "5BfshfGeYurJ",
        "outputId": "b7f98a7b-7998-4ba2-cba9-1da0414c2679"
      },
      "execution_count": 23,
      "outputs": [
        {
          "output_type": "display_data",
          "data": {
            "text/plain": [
              "<Figure size 432x288 with 1 Axes>"
            ],
            "image/png": "[encoded data removed]"
          },
          "metadata": {
            "needs_background": "light"
          }
        },
        {
          "output_type": "stream",
          "name": "stdout",
          "text": [
            "4\n"
          ]
        }
      ]
    },
    {
      "cell_type": "code",
      "source": [
        "epochs = range(10)\n",
        "plt.figure()\n",
        "plt.plot(epochs, loss, 'r', label='Training loss')\n",
        "plt.plot(epochs, val_loss, 'bo', label='Validation loss')\n",
        "plt.title('Training and Validation Loss')\n",
        "plt.xlabel('Epoch')\n",
        "plt.ylabel('Loss Value')\n",
        "plt.ylim([0, 0.25])\n",
        "plt.legend()\n",
        "plt.show()"
      ],
      "metadata": {
        "colab": {
          "base_uri": "https://localhost:8080/",
          "height": 295
        },
        "id": "FwRzpJogY32z",
        "outputId": "0afeba72-5465-42cd-afaf-b9ca5d5a5c57"
      },
      "execution_count": 24,
      "outputs": [
        {
          "output_type": "display_data",
          "data": {
            "text/plain": [
              "<Figure size 432x288 with 1 Axes>"
            ],
            "image/png": "[encoded data removed]"
          },
          "metadata": {
            "needs_background": "light"
          }
        }
      ]
    },
    {
      "cell_type": "code",
      "source": [
        "epochs = range(10)\n",
        "plt.figure()\n",
        "plt.plot(epochs, acc, 'r', label='Training accuracy')\n",
        "plt.plot(epochs, val_acc, 'bo', label='Validation accuracy')\n",
        "\n",
        "plt.title('Training and Validation Accuracy')\n",
        "plt.xlabel('Epoch')\n",
        "plt.ylabel('Acuuracy Value')\n",
        "plt.ylim([0.9, 1])\n",
        "plt.legend()\n",
        "plt.show()"
      ],
      "metadata": {
        "colab": {
          "base_uri": "https://localhost:8080/",
          "height": 295
        },
        "id": "c_W4Gs0mY87I",
        "outputId": "453d4618-306f-46f0-a14f-bc501795a470"
      },
      "execution_count": 25,
      "outputs": [
        {
          "output_type": "display_data",
          "data": {
            "text/plain": [
              "<Figure size 432x288 with 1 Axes>"
            ],
            "image/png": "[encoded data removed]"
          },
          "metadata": {
            "needs_background": "light"
          }
        }
      ]
    }
  ]
}