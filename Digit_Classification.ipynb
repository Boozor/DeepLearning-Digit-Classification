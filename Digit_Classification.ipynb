{
  "nbformat": 4,
  "nbformat_minor": 0,
  "metadata": {
    "colab": {
      "name": "Digit_Classification.ipynb",
      "provenance": [],
      "collapsed_sections": [],
      "include_colab_link": true
    },
    "kernelspec": {
      "name": "python3",
      "display_name": "Python 3"
    },
    "language_info": {
      "name": "python"
    }
  },
  "cells": [
    {
      "cell_type": "markdown",
      "metadata": {
        "id": "view-in-github",
        "colab_type": "text"
      },
      "source": [
        "<a href=\"https://colab.research.google.com/github/LeoVal1/Digit_Classification/blob/main/Digit_Classification.ipynb\" target=\"_parent\"><img src=\"https://colab.research.google.com/assets/colab-badge.svg\" alt=\"Open In Colab\"/></a>"
      ]
    },
    {
      "cell_type": "code",
      "source": [
        "!pip install keras"
      ],
      "metadata": {
        "colab": {
          "base_uri": "https://localhost:8080/"
        },
        "id": "r_jaz83HHByn",
        "outputId": "e799038e-b502-4332-e9cc-f8fef4736735"
      },
      "execution_count": 2,
      "outputs": [
        {
          "output_type": "stream",
          "name": "stdout",
          "text": [
            "Requirement already satisfied: keras in /usr/local/lib/python3.7/dist-packages (2.8.0)\n"
          ]
        }
      ]
    },
    {
      "cell_type": "code",
      "execution_count": 1,
      "metadata": {
        "id": "lDnFmaX0Dnrq"
      },
      "outputs": [],
      "source": [
        "import numpy as np\n",
        "import tensorflow as tf\n",
        "from tensorflow import keras\n",
        "import pandas as pd\n",
        "import matplotlib\n",
        "import matplotlib.pyplot as plt\n",
        "from keras import layers\n",
        "import tensorflow_datasets as tfds\n",
        "from keras.models import Sequential\n",
        "from keras.layers.convolutional import Conv2D\n",
        "from keras.layers.convolutional import MaxPooling2D\n",
        "from keras.layers import Flatten\n",
        "from keras.layers import Dense\n",
        "from tensorflow.python.keras.utils.np_utils import to_categorical\n",
        "from tensorflow.keras.optimizers import Adam\n",
        "\n"
      ]
    },
    {
      "cell_type": "markdown",
      "source": [
        "#LOAD MNIST DATASET"
      ],
      "metadata": {
        "id": "yBc8i_LCE79k"
      }
    },
    {
      "cell_type": "code",
      "source": [
        "mnist = tf.keras.datasets.mnist\n",
        "mnist_df =  mnist.load_data()\n",
        "(x_train, y_train),(x_test, y_test) = mnist_df  # Load data\n",
        "plt.imshow(x_train[0], cmap=\"Accent\")\n",
        "plt.show()\n",
        "\n",
        "\n",
        "\n",
        "\n"
      ],
      "metadata": {
        "colab": {
          "base_uri": "https://localhost:8080/",
          "height": 317
        },
        "id": "Mxn56Rs2FIl_",
        "outputId": "af43d3d1-187f-45d7-d467-a691f9ac3440"
      },
      "execution_count": 2,
      "outputs": [
        {
          "output_type": "stream",
          "name": "stdout",
          "text": [
            "Downloading data from https://storage.googleapis.com/tensorflow/tf-keras-datasets/mnist.npz\n",
            "11493376/11490434 [==============================] - 0s 0us/step\n",
            "11501568/11490434 [==============================] - 0s 0us/step\n"
          ]
        },
        {
          "output_type": "display_data",
          "data": {
            "text/plain": [
              "<Figure size 432x288 with 1 Axes>"
            ],
            "image/png": "[encoded data removed]"
          },
          "metadata": {
            "needs_background": "light"
          }
        }
      ]
    },
    {
      "cell_type": "markdown",
      "source": [
        "##PREPROCESS THE DATA INTO NUMPY ARRAYS"
      ],
      "metadata": {
        "id": "awQr1r3QN-6w"
      }
    },
    {
      "cell_type": "code",
      "source": [
        "x_train_expand = x_train.reshape((x_train.shape[0], 28, 28, 1))\n",
        "x_test_expand = x_test.reshape((x_test.shape[0], 28, 28, 1))\n",
        "\n",
        "x_train_expand = x_train_expand.astype('float16')\n",
        "x_test_expand = x_test_expand.astype('float16')\n",
        "\n",
        "print(x_train_expand.shape)\n",
        "print(x_test_expand.shape)\n"
      ],
      "metadata": {
        "colab": {
          "base_uri": "https://localhost:8080/"
        },
        "id": "WAXRVn4HOPXy",
        "outputId": "20b24761-9026-4d93-de70-4e51013317f3"
      },
      "execution_count": 3,
      "outputs": [
        {
          "output_type": "stream",
          "name": "stdout",
          "text": [
            "(60000, 28, 28, 1)\n",
            "(10000, 28, 28, 1)\n"
          ]
        }
      ]
    },
    {
      "cell_type": "markdown",
      "source": [
        ""
      ],
      "metadata": {
        "id": "nLxUo48QPCiP"
      }
    },
    {
      "cell_type": "code",
      "source": [
        "# normalize inputs from 0-255 to 0-1\n",
        "x_train_norm = x_train_expand / 255\n",
        "x_test_norm = x_test_expand / 255\n",
        "x_train_expand = x_train_expand.reshape(-1, 28, 28, 1)\n",
        "x_test_expand = x_test_expand.reshape(-1, 28, 28, 1)\n",
        "# one hot encode outputs\n",
        "y_train = to_categorical(y_train)\n",
        "y_test = to_categorical(y_test)\n",
        "print(x_train_expand.shape, x_test_expand.shape)\n",
        "print(y_train.shape)\n",
        "num_classes = y_test.shape[1]"
      ],
      "metadata": {
        "colab": {
          "base_uri": "https://localhost:8080/"
        },
        "id": "eEe1MXTSPDie",
        "outputId": "01046493-2d77-4bad-e3dc-13360cd93d66"
      },
      "execution_count": 4,
      "outputs": [
        {
          "output_type": "stream",
          "name": "stdout",
          "text": [
            "(60000, 28, 28, 1) (10000, 28, 28, 1)\n",
            "(60000, 10)\n"
          ]
        }
      ]
    },
    {
      "cell_type": "code",
      "source": [
        "print(num_classes)"
      ],
      "metadata": {
        "colab": {
          "base_uri": "https://localhost:8080/"
        },
        "id": "oEazbgnQNR0R",
        "outputId": "55b0e383-01d5-437e-8b65-85444b47a2ac"
      },
      "execution_count": 5,
      "outputs": [
        {
          "output_type": "stream",
          "name": "stdout",
          "text": [
            "10\n"
          ]
        }
      ]
    },
    {
      "cell_type": "markdown",
      "source": [
        "##BUILD A MODEL"
      ],
      "metadata": {
        "id": "4VgqyOUQJ9Nt"
      }
    },
    {
      "cell_type": "code",
      "source": [
        "model = Sequential(\n",
        "    [\n",
        "layers.Conv2D(filters=8,kernel_size=(5,5),strides=1,padding='same',activation='relu',input_shape=(28,28,1)),\n",
        "layers.MaxPooling2D(2),\n",
        "layers.Conv2D(filters=16,kernel_size=(3,3),strides=1,padding='same',activation='relu',input_shape=(14,14,8)),\n",
        "layers.Flatten(),\n",
        "layers.Dense(32, activation='relu'),\n",
        "layers.Dense(num_classes, activation='softmax'),\n",
        "  ])"
      ],
      "metadata": {
        "id": "WaLjkpqPKBpV"
      },
      "execution_count": 6,
      "outputs": []
    },
    {
      "cell_type": "code",
      "source": [
        "model.summary(),\n",
        "model.reset_states(),\n",
        "model.reset_metrics(),"
      ],
      "metadata": {
        "id": "myu9_4ATNq_B",
        "colab": {
          "base_uri": "https://localhost:8080/"
        },
        "outputId": "5827b402-eefc-4007-f77f-65582f852c11"
      },
      "execution_count": 7,
      "outputs": [
        {
          "output_type": "stream",
          "name": "stdout",
          "text": [
            "Model: \"sequential\"\n",
            "_________________________________________________________________\n",
            " Layer (type)                Output Shape              Param #   \n",
            "=================================================================\n",
            " conv2d (Conv2D)             (None, 28, 28, 8)         208       \n",
            "                                                                 \n",
            " max_pooling2d (MaxPooling2D  (None, 14, 14, 8)        0         \n",
            " )                                                               \n",
            "                                                                 \n",
            " conv2d_1 (Conv2D)           (None, 14, 14, 16)        1168      \n",
            "                                                                 \n",
            " flatten (Flatten)           (None, 3136)              0         \n",
            "                                                                 \n",
            " dense (Dense)               (None, 32)                100384    \n",
            "                                                                 \n",
            " dense_1 (Dense)             (None, 10)                330       \n",
            "                                                                 \n",
            "=================================================================\n",
            "Total params: 102,090\n",
            "Trainable params: 102,090\n",
            "Non-trainable params: 0\n",
            "_________________________________________________________________\n"
          ]
        },
        {
          "output_type": "execute_result",
          "data": {
            "text/plain": [
              "(None,)"
            ]
          },
          "metadata": {},
          "execution_count": 7
        }
      ]
    },
    {
      "cell_type": "code",
      "source": [
        "model.compile(optimizer = \"adam\", loss = 'categorical_crossentropy', metrics=['accuracy'])"
      ],
      "metadata": {
        "id": "MvWvcaQgGjw5"
      },
      "execution_count": 8,
      "outputs": []
    },
    {
      "cell_type": "markdown",
      "source": [
        "##Without Normalization"
      ],
      "metadata": {
        "id": "IEf8ecCNVSSt"
      }
    },
    {
      "cell_type": "code",
      "source": [
        "history = model.fit(x = x_train_expand, y=y_train, epochs= 10 ,validation_split=0.33)"
      ],
      "metadata": {
        "colab": {
          "base_uri": "https://localhost:8080/"
        },
        "id": "0od9NIm-Ic8I",
        "outputId": "bfaff3fc-df7f-41c4-eb0c-ba31aa763292"
      },
      "execution_count": 9,
      "outputs": [
        {
          "output_type": "stream",
          "name": "stdout",
          "text": [
            "Epoch 1/10\n",
            "1257/1257 [==============================] - 32s 24ms/step - loss: 0.8212 - accuracy: 0.7515 - val_loss: 0.1747 - val_accuracy: 0.9501\n",
            "Epoch 2/10\n",
            "1257/1257 [==============================] - 29s 23ms/step - loss: 0.1215 - accuracy: 0.9651 - val_loss: 0.1194 - val_accuracy: 0.9649\n",
            "Epoch 3/10\n",
            "1257/1257 [==============================] - 30s 24ms/step - loss: 0.0767 - accuracy: 0.9766 - val_loss: 0.1173 - val_accuracy: 0.9671\n",
            "Epoch 4/10\n",
            "1257/1257 [==============================] - 30s 24ms/step - loss: 0.0545 - accuracy: 0.9831 - val_loss: 0.0949 - val_accuracy: 0.9737\n",
            "Epoch 5/10\n",
            "1257/1257 [==============================] - 31s 25ms/step - loss: 0.0440 - accuracy: 0.9859 - val_loss: 0.0944 - val_accuracy: 0.9749\n",
            "Epoch 6/10\n",
            "1257/1257 [==============================] - 31s 25ms/step - loss: 0.0374 - accuracy: 0.9882 - val_loss: 0.1039 - val_accuracy: 0.9759\n",
            "Epoch 7/10\n",
            "1257/1257 [==============================] - 31s 25ms/step - loss: 0.0332 - accuracy: 0.9895 - val_loss: 0.1016 - val_accuracy: 0.9757\n",
            "Epoch 8/10\n",
            "1257/1257 [==============================] - 31s 25ms/step - loss: 0.0283 - accuracy: 0.9903 - val_loss: 0.1301 - val_accuracy: 0.9748\n",
            "Epoch 9/10\n",
            "1257/1257 [==============================] - 32s 25ms/step - loss: 0.0296 - accuracy: 0.9908 - val_loss: 0.0962 - val_accuracy: 0.9783\n",
            "Epoch 10/10\n",
            "1257/1257 [==============================] - 32s 25ms/step - loss: 0.0235 - accuracy: 0.9930 - val_loss: 0.1044 - val_accuracy: 0.9782\n"
          ]
        }
      ]
    },
    {
      "cell_type": "code",
      "source": [
        "acc = history.history['accuracy']\n",
        "val_acc = history.history['val_accuracy']\n",
        "loss = history.history['loss']\n",
        "val_loss = history.history['val_loss']\n",
        "print('Traning Accuracy')\n",
        "print(acc)\n",
        "print('Validation Accuracy')\n",
        "print(val_acc)\n",
        "print('Training loss')\n",
        "print(loss)\n",
        "print('Validation loss')\n",
        "print(val_loss)"
      ],
      "metadata": {
        "colab": {
          "base_uri": "https://localhost:8080/"
        },
        "id": "8Dn-dBo-Vxkh",
        "outputId": "cfb6ee5b-e77d-4653-e8de-e7ea89c9a3d1"
      },
      "execution_count": 10,
      "outputs": [
        {
          "output_type": "stream",
          "name": "stdout",
          "text": [
            "Traning Accuracy\n",
            "[0.7514863610267639, 0.9650986194610596, 0.9765665531158447, 0.9830841422080994, 0.9858951568603516, 0.9882335662841797, 0.9894773364067078, 0.9902734160423279, 0.9908455610275269, 0.9929848909378052]\n",
            "Validation Accuracy\n",
            "[0.9500530362129211, 0.96490079164505, 0.9670723676681519, 0.9736881852149963, 0.9749002456665039, 0.9758598208427429, 0.9757083058357239, 0.9747992753982544, 0.9783344268798828, 0.9782333970069885]\n",
            "Training loss\n",
            "[0.8212416768074036, 0.12148023396730423, 0.07668540626764297, 0.05446462705731392, 0.043997325003147125, 0.03738056868314743, 0.033210866153240204, 0.02825774811208248, 0.02959158830344677, 0.023543311282992363]\n",
            "Validation loss\n",
            "[0.174735888838768, 0.11942752450704575, 0.1172880083322525, 0.09487975388765335, 0.09441342949867249, 0.10391134768724442, 0.10163844376802444, 0.13007493317127228, 0.09622106701135635, 0.10439643263816833]\n"
          ]
        }
      ]
    },
    {
      "cell_type": "code",
      "source": [
        "epochs = range(10)\n",
        "plt.figure()\n",
        "plt.plot(epochs, acc, 'r', label='Training accuracy')\n",
        "plt.plot(epochs, val_acc, 'bo', label='Validation accuracy')\n",
        "plt.title('Training and Validation accuracy')\n",
        "plt.xlabel('Epoch')\n",
        "plt.ylabel('Accuracy Value')\n",
        "plt.ylim([0.9, 1])\n",
        "plt.legend()\n",
        "plt.show()"
      ],
      "metadata": {
        "colab": {
          "base_uri": "https://localhost:8080/",
          "height": 295
        },
        "id": "HxhBd3CwgW2L",
        "outputId": "b75b97e2-2f0e-4b8d-c0a7-288aec05515e"
      },
      "execution_count": 11,
      "outputs": [
        {
          "output_type": "display_data",
          "data": {
            "text/plain": [
              "<Figure size 432x288 with 1 Axes>"
            ],
            "image/png": "[encoded data removed]"
          },
          "metadata": {
            "needs_background": "light"
          }
        }
      ]
    },
    {
      "cell_type": "code",
      "source": [
        ""
      ],
      "metadata": {
        "id": "VCRPTU-QV6pR"
      },
      "execution_count": null,
      "outputs": []
    },
    {
      "cell_type": "code",
      "source": [
        "loss = history.history['loss']\n",
        "print(acc)\n",
        "val_loss = history.history['val_loss']\n",
        "print(val_loss)"
      ],
      "metadata": {
        "colab": {
          "base_uri": "https://localhost:8080/"
        },
        "id": "NHJdMMLcWEPP",
        "outputId": "007b1595-de54-4094-eed5-c1107784205f"
      },
      "execution_count": 12,
      "outputs": [
        {
          "output_type": "stream",
          "name": "stdout",
          "text": [
            "[0.7514863610267639, 0.9650986194610596, 0.9765665531158447, 0.9830841422080994, 0.9858951568603516, 0.9882335662841797, 0.9894773364067078, 0.9902734160423279, 0.9908455610275269, 0.9929848909378052]\n",
            "[0.174735888838768, 0.11942752450704575, 0.1172880083322525, 0.09487975388765335, 0.09441342949867249, 0.10391134768724442, 0.10163844376802444, 0.13007493317127228, 0.09622106701135635, 0.10439643263816833]\n"
          ]
        }
      ]
    },
    {
      "cell_type": "code",
      "source": [
        "epochs = range(10)\n",
        "plt.figure()\n",
        "plt.plot(epochs, loss, 'r', label='Training loss')\n",
        "plt.plot(epochs, val_loss, 'bo', label='Validation loss')\n",
        "plt.title('Training and Validation Loss')\n",
        "plt.xlabel('Epoch')\n",
        "plt.ylabel('Loss Value')\n",
        "plt.ylim([0, 1])\n",
        "plt.legend()\n",
        "plt.show()"
      ],
      "metadata": {
        "colab": {
          "base_uri": "https://localhost:8080/",
          "height": 295
        },
        "id": "KdH4UPSqhQWs",
        "outputId": "c8fbd438-0e04-48d6-eec9-4322ab1a32b8"
      },
      "execution_count": 13,
      "outputs": [
        {
          "output_type": "display_data",
          "data": {
            "text/plain": [
              "<Figure size 432x288 with 1 Axes>"
            ],
            "image/png": "[encoded data removed]"
          },
          "metadata": {
            "needs_background": "light"
          }
        }
      ]
    },
    {
      "cell_type": "code",
      "source": [
        "test_loss, test_acc = model.evaluate(x=x_test_expand, y=y_test)\n",
        "print('\\nTest accuracy:', test_acc)\n",
        "print('\\nTest loss', test_loss)"
      ],
      "metadata": {
        "colab": {
          "base_uri": "https://localhost:8080/"
        },
        "id": "2SPGVGJFPVaz",
        "outputId": "d056997f-e296-4d7f-ea08-3f828c70890f"
      },
      "execution_count": 14,
      "outputs": [
        {
          "output_type": "stream",
          "name": "stdout",
          "text": [
            "313/313 [==============================] - 3s 9ms/step - loss: 0.0930 - accuracy: 0.9797\n",
            "\n",
            "Test accuracy: 0.9797000288963318\n",
            "\n",
            "Test loss 0.0929744765162468\n"
          ]
        }
      ]
    },
    {
      "cell_type": "code",
      "source": [
        "predictions = model.predict([x_test_expand]) # Make prediction\n",
        "plt.imshow(x_test[565], cmap=\"Accent\")\n",
        "plt.show()\n",
        "print(np.argmax(predictions[565])) # Print out the number"
      ],
      "metadata": {
        "colab": {
          "base_uri": "https://localhost:8080/",
          "height": 283
        },
        "id": "gO2iFQFDWMjo",
        "outputId": "626c075c-6178-4f4a-e212-30caadabf6e8"
      },
      "execution_count": 15,
      "outputs": [
        {
          "output_type": "display_data",
          "data": {
            "text/plain": [
              "<Figure size 432x288 with 1 Axes>"
            ],
            "image/png": "[encoded data removed]"
          },
          "metadata": {
            "needs_background": "light"
          }
        },
        {
          "output_type": "stream",
          "name": "stdout",
          "text": [
            "4\n"
          ]
        }
      ]
    },
    {
      "cell_type": "markdown",
      "source": [
        "##With Normalization"
      ],
      "metadata": {
        "id": "un1ZUgF8Wg5o"
      }
    },
    {
      "cell_type": "code",
      "source": [
        "history1 = model.fit(x = x_train_norm, y=y_train, epochs= 10 ,validation_split=0.33)"
      ],
      "metadata": {
        "colab": {
          "base_uri": "https://localhost:8080/"
        },
        "id": "aS1EBqvCc1Oz",
        "outputId": "e72c8948-f28e-4eee-b717-011fa8a214bc"
      },
      "execution_count": 16,
      "outputs": [
        {
          "output_type": "stream",
          "name": "stdout",
          "text": [
            "Epoch 1/10\n",
            "1257/1257 [==============================] - 31s 25ms/step - loss: 0.2906 - accuracy: 0.9191 - val_loss: 0.1039 - val_accuracy: 0.9680\n",
            "Epoch 2/10\n",
            "1257/1257 [==============================] - 30s 24ms/step - loss: 0.0805 - accuracy: 0.9747 - val_loss: 0.0724 - val_accuracy: 0.9776\n",
            "Epoch 3/10\n",
            "1257/1257 [==============================] - 30s 24ms/step - loss: 0.0545 - accuracy: 0.9832 - val_loss: 0.0601 - val_accuracy: 0.9815\n",
            "Epoch 4/10\n",
            "1257/1257 [==============================] - 31s 24ms/step - loss: 0.0403 - accuracy: 0.9878 - val_loss: 0.0564 - val_accuracy: 0.9824\n",
            "Epoch 5/10\n",
            "1257/1257 [==============================] - 31s 24ms/step - loss: 0.0309 - accuracy: 0.9903 - val_loss: 0.0546 - val_accuracy: 0.9838\n",
            "Epoch 6/10\n",
            "1257/1257 [==============================] - 31s 24ms/step - loss: 0.0248 - accuracy: 0.9916 - val_loss: 0.0537 - val_accuracy: 0.9834\n",
            "Epoch 7/10\n",
            "1257/1257 [==============================] - 31s 25ms/step - loss: 0.0200 - accuracy: 0.9938 - val_loss: 0.0470 - val_accuracy: 0.9870\n",
            "Epoch 8/10\n",
            "1257/1257 [==============================] - 31s 25ms/step - loss: 0.0147 - accuracy: 0.9956 - val_loss: 0.0607 - val_accuracy: 0.9844\n",
            "Epoch 9/10\n",
            "1257/1257 [==============================] - 31s 25ms/step - loss: 0.0121 - accuracy: 0.9961 - val_loss: 0.0563 - val_accuracy: 0.9857\n",
            "Epoch 10/10\n",
            "1257/1257 [==============================] - 31s 25ms/step - loss: 0.0089 - accuracy: 0.9975 - val_loss: 0.0543 - val_accuracy: 0.9864\n"
          ]
        }
      ]
    },
    {
      "cell_type": "code",
      "source": [
        "acc = history1.history['accuracy']\n",
        "val_acc = history1.history['val_accuracy']\n",
        "loss = history1.history['loss']\n",
        "val_loss = history1.history['val_loss']\n",
        "print(acc)\n",
        "print(val_acc)\n",
        "print(loss)\n",
        "print(val_loss)"
      ],
      "metadata": {
        "colab": {
          "base_uri": "https://localhost:8080/"
        },
        "id": "5U65WZEMWlFi",
        "outputId": "7f39ebd3-962f-497d-8751-eb12991b42ca"
      },
      "execution_count": 17,
      "outputs": [
        {
          "output_type": "stream",
          "name": "stdout",
          "text": [
            "[0.9190775752067566, 0.9747008681297302, 0.9831587672233582, 0.9878355264663696, 0.9903480410575867, 0.9916167259216309, 0.9937809109687805, 0.995572030544281, 0.9960695505142212, 0.9975124001502991]\n",
            "[0.9679813981056213, 0.9775769114494324, 0.9814655780792236, 0.9824251532554626, 0.9837886691093445, 0.9833846688270569, 0.9869703650474548, 0.9843947291374207, 0.985657274723053, 0.9864148497581482]\n",
            "[0.2905930280685425, 0.08047281950712204, 0.054462142288684845, 0.040257107466459274, 0.030948836356401443, 0.024776598438620567, 0.01996646076440811, 0.014684043824672699, 0.012072797864675522, 0.008856268599629402]\n",
            "[0.10386267304420471, 0.07241340726613998, 0.06014538183808327, 0.05642043426632881, 0.05463423579931259, 0.053657807409763336, 0.047013331204652786, 0.06065256521105766, 0.056333065032958984, 0.05425802990794182]\n"
          ]
        }
      ]
    },
    {
      "cell_type": "code",
      "source": [
        "epochs = range(10)\n",
        "plt.figure()\n",
        "plt.plot(epochs, acc, 'r', label='Training accuracy')\n",
        "plt.plot(epochs, val_acc, 'bo', label='Validation accuracy')\n",
        "\n",
        "plt.title('Training and Validation Accuracy')\n",
        "plt.xlabel('Epoch')\n",
        "plt.ylabel('Acuuracy Value')\n",
        "plt.ylim([0.9, 1])\n",
        "plt.legend()\n",
        "plt.show()"
      ],
      "metadata": {
        "colab": {
          "base_uri": "https://localhost:8080/",
          "height": 295
        },
        "id": "u1Pfq2pGmjv1",
        "outputId": "2359b27b-23f8-4cf7-d858-1a1dbfa45199"
      },
      "execution_count": 18,
      "outputs": [
        {
          "output_type": "display_data",
          "data": {
            "text/plain": [
              "<Figure size 432x288 with 1 Axes>"
            ],
            "image/png": "[encoded data removed]"
          },
          "metadata": {
            "needs_background": "light"
          }
        }
      ]
    },
    {
      "cell_type": "code",
      "source": [
        ""
      ],
      "metadata": {
        "id": "wRc7pX6nYW_R"
      },
      "execution_count": null,
      "outputs": []
    },
    {
      "cell_type": "code",
      "source": [
        "loss = history.history['loss']\n",
        "print(acc)\n",
        "val_loss = history.history['val_loss']\n",
        "print(val_loss)"
      ],
      "metadata": {
        "colab": {
          "base_uri": "https://localhost:8080/"
        },
        "id": "Pw_x68MzYqjL",
        "outputId": "d7fad93c-8d6a-43dd-ae6c-41ad2dbf5c36"
      },
      "execution_count": 23,
      "outputs": [
        {
          "output_type": "stream",
          "name": "stdout",
          "text": [
            "[0.9190775752067566, 0.9747008681297302, 0.9831587672233582, 0.9878355264663696, 0.9903480410575867, 0.9916167259216309, 0.9937809109687805, 0.995572030544281, 0.9960695505142212, 0.9975124001502991]\n",
            "[0.174735888838768, 0.11942752450704575, 0.1172880083322525, 0.09487975388765335, 0.09441342949867249, 0.10391134768724442, 0.10163844376802444, 0.13007493317127228, 0.09622106701135635, 0.10439643263816833]\n"
          ]
        }
      ]
    },
    {
      "cell_type": "code",
      "source": [
        "epochs = range(10)\n",
        "plt.figure()\n",
        "plt.plot(epochs, loss, 'r', label='Training loss')\n",
        "plt.plot(epochs, val_loss, 'bo', label='Validation loss')\n",
        "plt.title('Training and Validation Loss')\n",
        "plt.xlabel('Epoch')\n",
        "plt.ylabel('Loss Value')\n",
        "plt.ylim([0, 0.25])\n",
        "plt.legend()\n",
        "plt.show()"
      ],
      "metadata": {
        "colab": {
          "base_uri": "https://localhost:8080/",
          "height": 295
        },
        "id": "NyhZE9mcmo_3",
        "outputId": "41c239a0-2897-4614-b257-82d703388218"
      },
      "execution_count": 21,
      "outputs": [
        {
          "output_type": "display_data",
          "data": {
            "text/plain": [
              "<Figure size 432x288 with 1 Axes>"
            ],
            "image/png": "[encoded data removed]"
          },
          "metadata": {
            "needs_background": "light"
          }
        }
      ]
    },
    {
      "cell_type": "code",
      "source": [
        "test_loss, test_acc = model.evaluate(x=x_test_expand, y=y_test)\n",
        "print('\\nTest accuracy:', test_acc)\n",
        "print('\\nTest loss', test_loss)"
      ],
      "metadata": {
        "colab": {
          "base_uri": "https://localhost:8080/"
        },
        "id": "1WqOVk8PTlia",
        "outputId": "27a527e8-b6b9-4aea-b989-52e1cdb7b30e"
      },
      "execution_count": 22,
      "outputs": [
        {
          "output_type": "stream",
          "name": "stdout",
          "text": [
            "313/313 [==============================] - 3s 9ms/step - loss: 9.3832 - accuracy: 0.9853\n",
            "\n",
            "Test accuracy: 0.9853000044822693\n",
            "\n",
            "Test loss 9.383208274841309\n"
          ]
        }
      ]
    },
    {
      "cell_type": "code",
      "source": [
        "predictions = model.predict([x_test_expand]) # Make prediction\n",
        "plt.imshow(x_test[565], cmap=\"Accent\")\n",
        "plt.show()\n",
        "print(np.argmax(predictions[565])) # Print out the number"
      ],
      "metadata": {
        "colab": {
          "base_uri": "https://localhost:8080/",
          "height": 283
        },
        "id": "5BfshfGeYurJ",
        "outputId": "45a3dab1-89b3-488f-b90f-eba2fd4f39f4"
      },
      "execution_count": 24,
      "outputs": [
        {
          "output_type": "display_data",
          "data": {
            "text/plain": [
              "<Figure size 432x288 with 1 Axes>"
            ],
            "image/png": "[encoded data removed]"
          },
          "metadata": {
            "needs_background": "light"
          }
        },
        {
          "output_type": "stream",
          "name": "stdout",
          "text": [
            "4\n"
          ]
        }
      ]
    }
  ]
}